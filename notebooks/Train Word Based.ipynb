{
 "cells": [
  {
   "cell_type": "markdown",
   "metadata": {
    "id": "XGJE7YkYEx7E"
   },
   "source": [
    "# Dependencies"
   ]
  },
  {
   "cell_type": "code",
   "execution_count": 214,
   "metadata": {
    "colab": {
     "base_uri": "https://localhost:8080/"
    },
    "executionInfo": {
     "elapsed": 23396,
     "status": "ok",
     "timestamp": 1698090635218,
     "user": {
      "displayName": "Jack Pay",
      "userId": "06088299984570525080"
     },
     "user_tz": -60
    },
    "id": "Pu8rW7RAEx7H",
    "outputId": "78cde691-a9a2-41eb-c76f-100bd457f648"
   },
   "outputs": [
    {
     "name": "stdout",
     "output_type": "stream",
     "text": [
      "Requirement already satisfied: num2words in c:\\users\\jack\\appdata\\local\\programs\\python\\python310\\lib\\site-packages (0.5.12)"
     ]
    },
    {
     "name": "stderr",
     "output_type": "stream",
     "text": [
      "\n",
      "[notice] A new release of pip is available: 23.2.1 -> 23.3.1\n",
      "[notice] To update, run: python.exe -m pip install --upgrade pip\n"
     ]
    },
    {
     "name": "stdout",
     "output_type": "stream",
     "text": [
      "\n",
      "Requirement already satisfied: docopt>=0.6.2 in c:\\users\\jack\\appdata\\local\\programs\\python\\python310\\lib\\site-packages (from num2words) (0.6.2)\n"
     ]
    }
   ],
   "source": [
    "import numpy as np\n",
    "import pandas as pd\n",
    "import os\n",
    "from scipy.io import loadmat\n",
    "import matplotlib.pyplot as plt\n",
    "import re\n",
    "import ast\n",
    "import sys\n",
    "import cv2\n",
    "import random\n",
    "import json\n",
    "\n",
    "!pip install num2words\n",
    "\n",
    "## CSF\n",
    "proj_data_dir = \"../../proj_data/\"\n",
    "proj_model_dir = \"../../proj_models/\"\n",
    "\n",
    "\n",
    "\n",
    "## Personal\n",
    "# proj_data_dir = \"D:/USB/data_gen_5/\"\n",
    "\n",
    "\n",
    "proj_code_dir = \"../classes\"\n",
    "sys.path.append(proj_code_dir)"
   ]
  },
  {
   "cell_type": "code",
   "execution_count": 215,
   "metadata": {
    "colab": {
     "base_uri": "https://localhost:8080/"
    },
    "executionInfo": {
     "elapsed": 9247,
     "status": "ok",
     "timestamp": 1698090449623,
     "user": {
      "displayName": "Jack Pay",
      "userId": "06088299984570525080"
     },
     "user_tz": -60
    },
    "id": "CTiZybIWEx7J",
    "outputId": "56b5da71-0c48-4a07-e857-f9ab184fff3f"
   },
   "outputs": [
    {
     "name": "stdout",
     "output_type": "stream",
     "text": [
      "Requirement already satisfied: datasets in c:\\users\\jack\\appdata\\local\\programs\\python\\python310\\lib\\site-packages (2.14.6)\n",
      "Requirement already satisfied: numpy>=1.17 in c:\\users\\jack\\appdata\\local\\programs\\python\\python310\\lib\\site-packages (from datasets) (1.24.3)\n",
      "Requirement already satisfied: pyarrow>=8.0.0 in c:\\users\\jack\\appdata\\local\\programs\\python\\python310\\lib\\site-packages (from datasets) (13.0.0)\n",
      "Requirement already satisfied: dill<0.3.8,>=0.3.0 in c:\\users\\jack\\appdata\\local\\programs\\python\\python310\\lib\\site-packages (from datasets) (0.3.7)\n",
      "Requirement already satisfied: pandas in c:\\users\\jack\\appdata\\local\\programs\\python\\python310\\lib\\site-packages (from datasets) (2.1.0)\n",
      "Requirement already satisfied: requests>=2.19.0 in c:\\users\\jack\\appdata\\local\\programs\\python\\python310\\lib\\site-packages (from datasets) (2.31.0)\n",
      "Requirement already satisfied: tqdm>=4.62.1 in c:\\users\\jack\\appdata\\local\\programs\\python\\python310\\lib\\site-packages (from datasets) (4.66.1)\n",
      "Requirement already satisfied: xxhash in c:\\users\\jack\\appdata\\local\\programs\\python\\python310\\lib\\site-packages (from datasets) (3.4.1)\n",
      "Requirement already satisfied: multiprocess in c:\\users\\jack\\appdata\\local\\programs\\python\\python310\\lib\\site-packages (from datasets) (0.70.15)\n",
      "Requirement already satisfied: fsspec[http]<=2023.10.0,>=2023.1.0 in c:\\users\\jack\\appdata\\local\\programs\\python\\python310\\lib\\site-packages (from datasets) (2023.9.2)\n",
      "Requirement already satisfied: aiohttp in c:\\users\\jack\\appdata\\local\\programs\\python\\python310\\lib\\site-packages (from datasets) (3.8.6)\n",
      "Requirement already satisfied: huggingface-hub<1.0.0,>=0.14.0 in c:\\users\\jack\\appdata\\local\\programs\\python\\python310\\lib\\site-packages (from datasets) (0.18.0)\n",
      "Requirement already satisfied: packaging in c:\\users\\jack\\appdata\\local\\programs\\python\\python310\\lib\\site-packages (from datasets) (23.1)\n",
      "Requirement already satisfied: pyyaml>=5.1 in c:\\users\\jack\\appdata\\local\\programs\\python\\python310\\lib\\site-packages (from datasets) (6.0.1)\n",
      "Requirement already satisfied: attrs>=17.3.0 in c:\\users\\jack\\appdata\\local\\programs\\python\\python310\\lib\\site-packages (from aiohttp->datasets) (23.1.0)\n",
      "Requirement already satisfied: charset-normalizer<4.0,>=2.0 in c:\\users\\jack\\appdata\\local\\programs\\python\\python310\\lib\\site-packages (from aiohttp->datasets) (3.2.0)\n",
      "Requirement already satisfied: multidict<7.0,>=4.5 in c:\\users\\jack\\appdata\\local\\programs\\python\\python310\\lib\\site-packages (from aiohttp->datasets) (6.0.4)\n",
      "Requirement already satisfied: async-timeout<5.0,>=4.0.0a3 in c:\\users\\jack\\appdata\\local\\programs\\python\\python310\\lib\\site-packages (from aiohttp->datasets) (4.0.3)\n",
      "Requirement already satisfied: yarl<2.0,>=1.0 in c:\\users\\jack\\appdata\\local\\programs\\python\\python310\\lib\\site-packages (from aiohttp->datasets) (1.9.2)\n",
      "Requirement already satisfied: frozenlist>=1.1.1 in c:\\users\\jack\\appdata\\local\\programs\\python\\python310\\lib\\site-packages (from aiohttp->datasets) (1.4.0)\n",
      "Requirement already satisfied: aiosignal>=1.1.2 in c:\\users\\jack\\appdata\\local\\programs\\python\\python310\\lib\\site-packages (from aiohttp->datasets) (1.3.1)\n",
      "Requirement already satisfied: filelock in c:\\users\\jack\\appdata\\local\\programs\\python\\python310\\lib\\site-packages (from huggingface-hub<1.0.0,>=0.14.0->datasets) (3.12.4)\n",
      "Requirement already satisfied: typing-extensions>=3.7.4.3 in c:\\users\\jack\\appdata\\local\\programs\\python\\python310\\lib\\site-packages (from huggingface-hub<1.0.0,>=0.14.0->datasets) (4.5.0)\n",
      "Requirement already satisfied: idna<4,>=2.5 in c:\\users\\jack\\appdata\\local\\programs\\python\\python310\\lib\\site-packages (from requests>=2.19.0->datasets) (3.4)\n",
      "Requirement already satisfied: urllib3<3,>=1.21.1 in c:\\users\\jack\\appdata\\local\\programs\\python\\python310\\lib\\site-packages (from requests>=2.19.0->datasets) (1.26.16)\n",
      "Requirement already satisfied: certifi>=2017.4.17 in c:\\users\\jack\\appdata\\local\\programs\\python\\python310\\lib\\site-packages (from requests>=2.19.0->datasets) (2023.7.22)\n",
      "Requirement already satisfied: colorama in c:\\users\\jack\\appdata\\local\\programs\\python\\python310\\lib\\site-packages (from tqdm>=4.62.1->datasets) (0.4.6)\n",
      "Requirement already satisfied: python-dateutil>=2.8.2 in c:\\users\\jack\\appdata\\local\\programs\\python\\python310\\lib\\site-packages (from pandas->datasets) (2.8.2)\n",
      "Requirement already satisfied: pytz>=2020.1 in c:\\users\\jack\\appdata\\local\\programs\\python\\python310\\lib\\site-packages (from pandas->datasets) (2023.3.post1)\n",
      "Requirement already satisfied: tzdata>=2022.1 in c:\\users\\jack\\appdata\\local\\programs\\python\\python310\\lib\\site-packages (from pandas->datasets) (2023.3)\n",
      "Requirement already satisfied: six>=1.5 in c:\\users\\jack\\appdata\\local\\programs\\python\\python310\\lib\\site-packages (from python-dateutil>=2.8.2->pandas->datasets) (1.16.0)\n"
     ]
    },
    {
     "name": "stderr",
     "output_type": "stream",
     "text": [
      "\n",
      "[notice] A new release of pip is available: 23.2.1 -> 23.3.1\n",
      "[notice] To update, run: python.exe -m pip install --upgrade pip\n"
     ]
    }
   ],
   "source": [
    "import tensorflow as tf\n",
    "\n",
    "from tensorflow import keras\n",
    "from tensorflow.keras import layers\n",
    "from tensorflow.keras.models import Sequential, Model\n",
    "from tensorflow.keras.layers import Flatten, LSTM, TimeDistributed,Bidirectional, InputLayer,Attention,Dense,Dropout,Input\n",
    "from tensorflow.keras.optimizers import Adam, SGD\n",
    "from tensorflow.keras.callbacks import LearningRateScheduler\n",
    "from sklearn.metrics import classification_report\n",
    "\n",
    "!pip install datasets\n",
    "from datasets import Dataset"
   ]
  },
  {
   "cell_type": "markdown",
   "metadata": {
    "id": "nLDmvm2GEx7K"
   },
   "source": [
    "# Prepare Data"
   ]
  },
  {
   "cell_type": "code",
   "execution_count": 216,
   "metadata": {
    "colab": {
     "base_uri": "https://localhost:8080/"
    },
    "executionInfo": {
     "elapsed": 8865,
     "status": "ok",
     "timestamp": 1698090776883,
     "user": {
      "displayName": "Jack Pay",
      "userId": "06088299984570525080"
     },
     "user_tz": -60
    },
    "id": "WtW-1rhwEx7K",
    "outputId": "f9bc67fe-c3ec-4156-d8f8-79e85298d2c1"
   },
   "outputs": [],
   "source": [
    "data_mat = loadmat(os.path.join(proj_data_dir, \"batches_landmark/all_split.mat\"))\n",
    "\n",
    "train_X = data_mat[\"train_data\"]\n",
    "train_Y = data_mat[\"train_labels\"]\n",
    "\n",
    "test_X = data_mat[\"test_data\"]\n",
    "test_Y = data_mat[\"test_labels\"]\n",
    "\n",
    "val_X = data_mat[\"val_data\"]\n",
    "val_Y = data_mat[\"val_labels\"]"
   ]
  },
  {
   "cell_type": "code",
   "execution_count": 217,
   "metadata": {},
   "outputs": [],
   "source": [
    "def show_data():\n",
    "    print(f\"test data length: {np.shape(train_X)}\")\n",
    "    print(f\"Train labels length: {np.shape(train_Y)}\")\n",
    "\n",
    "    print(f\"Test data length: {np.shape(test_X)}\")\n",
    "    print(f\"Test labels length: {np.shape(test_Y)}\")\n",
    "\n",
    "    print(f\"Validation data length: {np.shape(val_X)}\")\n",
    "    print(f\"Validation labels length: {np.shape(val_Y)}\")"
   ]
  },
  {
   "cell_type": "code",
   "execution_count": 218,
   "metadata": {},
   "outputs": [
    {
     "name": "stdout",
     "output_type": "stream",
     "text": [
      "test data length: (3465, 29, 40, 3)\n",
      "Train labels length: (3465,)\n",
      "Test data length: (440, 29, 40, 3)\n",
      "Test labels length: (440,)\n",
      "Validation data length: (495, 29, 40, 3)\n",
      "Validation labels length: (495,)\n"
     ]
    }
   ],
   "source": [
    "show_data()"
   ]
  },
  {
   "cell_type": "markdown",
   "metadata": {
    "id": "zykVd4fAEx7K"
   },
   "source": [
    "## Prune Data\n",
    "Remove some frames of the data: some frames include other words"
   ]
  },
  {
   "cell_type": "code",
   "execution_count": 219,
   "metadata": {
    "executionInfo": {
     "elapsed": 591,
     "status": "ok",
     "timestamp": 1698090795274,
     "user": {
      "displayName": "Jack Pay",
      "userId": "06088299984570525080"
     },
     "user_tz": -60
    },
    "id": "9ZgUDisKEx7L"
   },
   "outputs": [],
   "source": [
    "prune_begin = 4\n",
    "prune_end = 4"
   ]
  },
  {
   "cell_type": "code",
   "execution_count": 220,
   "metadata": {
    "executionInfo": {
     "elapsed": 3,
     "status": "ok",
     "timestamp": 1698090795275,
     "user": {
      "displayName": "Jack Pay",
      "userId": "06088299984570525080"
     },
     "user_tz": -60
    },
    "id": "nrZb0IcHEx7L"
   },
   "outputs": [],
   "source": [
    "def prune_data(data, before: int, after: int):\n",
    "    new_data = []\n",
    "    for batch in data:\n",
    "        batch_length = len(batch)\n",
    "        new_data.append(batch[before:(batch_length-after)])\n",
    "    print(np.shape(new_data))\n",
    "    return new_data"
   ]
  },
  {
   "cell_type": "code",
   "execution_count": 221,
   "metadata": {
    "colab": {
     "base_uri": "https://localhost:8080/"
    },
    "executionInfo": {
     "elapsed": 12551,
     "status": "ok",
     "timestamp": 1698090807824,
     "user": {
      "displayName": "Jack Pay",
      "userId": "06088299984570525080"
     },
     "user_tz": -60
    },
    "id": "nSDlEZrtEx7L",
    "outputId": "099ab4da-0945-490c-a43b-36eb33fc0cba"
   },
   "outputs": [
    {
     "name": "stdout",
     "output_type": "stream",
     "text": [
      "(3465, 21, 40, 3)\n",
      "(440, 21, 40, 3)\n",
      "(495, 21, 40, 3)\n"
     ]
    }
   ],
   "source": [
    "train_X = prune_data(data=train_X, before=prune_begin, after=prune_end)\n",
    "test_X = prune_data(data=test_X, before=prune_begin, after=prune_end)\n",
    "val_X = prune_data(data=val_X, before=prune_begin, after=prune_end)"
   ]
  },
  {
   "cell_type": "code",
   "execution_count": 222,
   "metadata": {},
   "outputs": [
    {
     "name": "stdout",
     "output_type": "stream",
     "text": [
      "test data length: (3465, 21, 40, 3)\n",
      "Train labels length: (3465,)\n",
      "Test data length: (440, 21, 40, 3)\n",
      "Test labels length: (440,)\n",
      "Validation data length: (495, 21, 40, 3)\n",
      "Validation labels length: (495,)\n"
     ]
    }
   ],
   "source": [
    "show_data()"
   ]
  },
  {
   "cell_type": "markdown",
   "metadata": {
    "id": "sN2TvJy4Ex7M"
   },
   "source": [
    "## Augment Data"
   ]
  },
  {
   "cell_type": "code",
   "execution_count": 223,
   "metadata": {},
   "outputs": [],
   "source": [
    "import math\n",
    "\n",
    "def rotate(x: float,y: float,z: float,theta: float,xo: float = 0.0,yo: float = 0.0):\n",
    "    \"\"\"\n",
    "    Rotates an (x.y) about the origin specified by some theta\n",
    "    \"\"\"\n",
    "    x_temp = x - xo\n",
    "    y_temp = y - yo\n",
    "    xr=math.cos(theta)*(x_temp)-math.sin(theta)*(y_temp)\n",
    "    yr=math.sin(theta)*(x_temp)+math.cos(theta)*(y_temp)\n",
    "    xr = xr + xo\n",
    "    yr = yr + yo\n",
    "    return [xr,yr,z]\n",
    "\n",
    "def rotate_landmarks(landmarks, theta: float):\n",
    "    new_landmarks = []\n",
    "    for ldmk in landmarks:\n",
    "        new_ldmk = rotate(x=ldmk[0],y=ldmk[1],z=ldmk[2],theta=theta, xo=0.5, yo=0.5)\n",
    "        new_landmarks.append(new_ldmk)\n",
    "    return new_landmarks"
   ]
  },
  {
   "cell_type": "code",
   "execution_count": 224,
   "metadata": {
    "executionInfo": {
     "elapsed": 3,
     "status": "ok",
     "timestamp": 1698090807824,
     "user": {
      "displayName": "Jack Pay",
      "userId": "06088299984570525080"
     },
     "user_tz": -60
    },
    "id": "LjBbljdcEx7M"
   },
   "outputs": [],
   "source": [
    "def augment_data(data, labels, rotate = False):\n",
    "  new_data = []\n",
    "  new_labels = []\n",
    "  for frames, label in zip(data, labels):\n",
    "    aug_vector = [[1,0,0] for _ in range(40)]\n",
    "    frames_flip = [np.abs(frame - aug_vector) for frame in frames]\n",
    "    ##Gets a random rotation. Makes sure this isn't too small of a rotation\n",
    "    if(rotate):\n",
    "      random_theta = 0.0\n",
    "      while(-0.1 <= random_theta <= 0.1):\n",
    "        random_theta = random.uniform(-math.pi/4, math.pi/4)\n",
    "      frames_rotated = [rotate_landmarks(landmarks=frame, theta=random_theta) for frame in frames]\n",
    "      frames_flip_rotated = [rotate_landmarks(landmarks=frame, theta=random_theta) for frame in frames_flip]\n",
    "\n",
    "    new_data.append(np.array(frames))\n",
    "    new_data.append(np.array(frames_flip))\n",
    "    if(rotate):\n",
    "      new_data.append(np.array(frames_rotated))\n",
    "      new_data.append(np.array(frames_flip_rotated))\n",
    "\n",
    "    if(rotate):\n",
    "      new_labels += ([label] * 4)\n",
    "    else:\n",
    "      new_labels += ([label] * 2)\n",
    "  return (new_data, new_labels)"
   ]
  },
  {
   "cell_type": "code",
   "execution_count": 225,
   "metadata": {
    "executionInfo": {
     "elapsed": 16719,
     "status": "ok",
     "timestamp": 1698090824540,
     "user": {
      "displayName": "Jack Pay",
      "userId": "06088299984570525080"
     },
     "user_tz": -60
    },
    "id": "UPKzKXC5Ex7M"
   },
   "outputs": [],
   "source": [
    "train_X, train_Y = augment_data(data=train_X, labels=train_Y)\n",
    "test_X, test_Y = augment_data(data=test_X, labels=test_Y)\n",
    "val_X, val_Y = augment_data(data=val_X, labels=val_Y)"
   ]
  },
  {
   "cell_type": "code",
   "execution_count": 226,
   "metadata": {
    "colab": {
     "base_uri": "https://localhost:8080/"
    },
    "executionInfo": {
     "elapsed": 1090,
     "status": "ok",
     "timestamp": 1698090825619,
     "user": {
      "displayName": "Jack Pay",
      "userId": "06088299984570525080"
     },
     "user_tz": -60
    },
    "id": "BnfCQpJgEx7M",
    "outputId": "eb3d817b-9428-4a2c-ddd8-ecf9fa8218e2"
   },
   "outputs": [
    {
     "name": "stdout",
     "output_type": "stream",
     "text": [
      "test data length: (6930, 21, 40, 3)\n",
      "Train labels length: (6930,)\n",
      "Test data length: (880, 21, 40, 3)\n",
      "Test labels length: (880,)\n",
      "Validation data length: (990, 21, 40, 3)\n",
      "Validation labels length: (990,)\n"
     ]
    }
   ],
   "source": [
    "show_data()"
   ]
  },
  {
   "cell_type": "markdown",
   "metadata": {
    "id": "UJC-4V11Ex7N"
   },
   "source": [
    "## Data Example"
   ]
  },
  {
   "cell_type": "code",
   "execution_count": 227,
   "metadata": {
    "executionInfo": {
     "elapsed": 4,
     "status": "ok",
     "timestamp": 1698090825620,
     "user": {
      "displayName": "Jack Pay",
      "userId": "06088299984570525080"
     },
     "user_tz": -60
    },
    "id": "-OCgdhnFEx7N"
   },
   "outputs": [],
   "source": [
    "def landmarks_to_img(landmarks):\n",
    "  width = 200\n",
    "  height = 200\n",
    "  new_frame = np.zeros((width,height))\n",
    "  for ldmk in landmarks:\n",
    "      new_frame = cv2.circle(\n",
    "          img=new_frame,\n",
    "          center=(int(ldmk[0] * width), int(ldmk[1] * height)),\n",
    "          radius=2,\n",
    "          thickness=1,\n",
    "          color=(255,255,255),\n",
    "      )\n",
    "  return new_frame\n",
    "\n",
    "def show_frames(frames, landmark: bool):\n",
    "  print(np.shape(frames))\n",
    "  _, ax = plt.subplots(figsize=(18, 2))\n",
    "  if(not landmark):\n",
    "    row = frames[0]\n",
    "    for x in range(1,len(frames)):\n",
    "      row = np.concatenate((row, frames[x]), axis = 1)\n",
    "    ax.imshow(row, cmap='gray', vmin=0, vmax=255)\n",
    "  else:\n",
    "    row = landmarks_to_img(frames[0])\n",
    "    for x in range(1,len(frames)):\n",
    "      row = np.concatenate((row, landmarks_to_img(frames[x])), axis = 1)\n",
    "    ax.imshow(row, cmap='gray', vmin=0, vmax=255)\n"
   ]
  },
  {
   "cell_type": "code",
   "execution_count": 228,
   "metadata": {
    "colab": {
     "base_uri": "https://localhost:8080/",
     "height": 124
    },
    "executionInfo": {
     "elapsed": 338,
     "status": "ok",
     "timestamp": 1698090825955,
     "user": {
      "displayName": "Jack Pay",
      "userId": "06088299984570525080"
     },
     "user_tz": -60
    },
    "id": "-T7--vpYEx7N",
    "outputId": "fde89283-0146-4789-bbda-e16d76a02866"
   },
   "outputs": [
    {
     "name": "stdout",
     "output_type": "stream",
     "text": [
      "(21, 40, 3)\n",
      "Class: FAMILY \n"
     ]
    },
    {
     "data": {
      "image/png": "[encoded data removed]",
      "text/plain": [
       "<Figure size 1800x200 with 1 Axes>"
      ]
     },
     "metadata": {},
     "output_type": "display_data"
    }
   ],
   "source": [
    "show_frames(frames=train_X[0],landmark=True)\n",
    "print(f\"Class: {train_Y[0]}\")"
   ]
  },
  {
   "cell_type": "code",
   "execution_count": 229,
   "metadata": {},
   "outputs": [
    {
     "name": "stdout",
     "output_type": "stream",
     "text": [
      "(21, 40, 3)\n",
      "Class: FAMILY \n"
     ]
    },
    {
     "data": {
      "image/png": "[encoded data removed]",
      "text/plain": [
       "<Figure size 1800x200 with 1 Axes>"
      ]
     },
     "metadata": {},
     "output_type": "display_data"
    }
   ],
   "source": [
    "show_frames(frames=train_X[1],landmark=True)\n",
    "print(f\"Class: {train_Y[1]}\")"
   ]
  },
  {
   "cell_type": "markdown",
   "metadata": {
    "id": "DTSuhlaZEx7N"
   },
   "source": [
    "## Encode Labels"
   ]
  },
  {
   "cell_type": "code",
   "execution_count": 230,
   "metadata": {},
   "outputs": [],
   "source": [
    "number_of_frames = np.shape(train_X)[1]"
   ]
  },
  {
   "cell_type": "code",
   "execution_count": 236,
   "metadata": {
    "colab": {
     "base_uri": "https://localhost:8080/"
    },
    "executionInfo": {
     "elapsed": 4470,
     "status": "ok",
     "timestamp": 1698090830420,
     "user": {
      "displayName": "Jack Pay",
      "userId": "06088299984570525080"
     },
     "user_tz": -60
    },
    "id": "gx3gGOEqEx7N",
    "outputId": "5a1b1623-a9e4-40f0-b2a9-b6f8a7094345"
   },
   "outputs": [
    {
     "name": "stdout",
     "output_type": "stream",
     "text": [
      "Letters to numbers: {' ': 16, 'A': 1, 'B': 2, 'C': 3, 'E': 4, 'F': 5, 'H': 6, 'I': 7, 'L': 8, 'M': 9, 'N': 10, 'O': 11, 'T': 12, 'U': 13, 'V': 14, 'Y': 15}\n",
      "Numbers to letters: {16: ' ', 1: 'A', 2: 'B', 3: 'C', 4: 'E', 5: 'F', 6: 'H', 7: 'I', 8: 'L', 9: 'M', 10: 'N', 11: 'O', 12: 'T', 13: 'U', 14: 'V', 15: 'Y'}\n",
      "Word to numbers: {'ABOUT                ': [1, 2, 11, 13, 12, 16, 16, 16, 16, 16, 16, 16, 16, 16, 16, 16, 16, 16, 16, 16, 16], 'BELIEVE              ': [2, 4, 8, 7, 4, 14, 4, 16, 16, 16, 16, 16, 16, 16, 16, 16, 16, 16, 16, 16, 16], 'CHANCE               ': [3, 6, 1, 10, 3, 4, 16, 16, 16, 16, 16, 16, 16, 16, 16, 16, 16, 16, 16, 16, 16], 'FAMILY               ': [5, 1, 9, 7, 8, 15, 16, 16, 16, 16, 16, 16, 16, 16, 16, 16, 16, 16, 16, 16, 16]}\n"
     ]
    }
   ],
   "source": [
    "word_set = np.unique(train_Y)\n",
    "word_set.sort()\n",
    "word_set = [x.strip() for x in word_set]\n",
    "word_set = [word.ljust(number_of_frames, ' ') for word in word_set]\n",
    "\n",
    "label_breakdown = [[x for x in word] for word in word_set]\n",
    "\n",
    "letters = np.array([])\n",
    "for label in label_breakdown:\n",
    "    letters = np.concatenate((letters,label))\n",
    "letters = np.unique(letters)\n",
    "\n",
    "#One hot\n",
    "# letter_encoder = keras.layers.StringLookup(\n",
    "#     num_oov_indices=0, vocabulary=letters,output_mode=\"one_hot\"\n",
    "# )\n",
    "\n",
    "#Numerical\n",
    "letter_encodings = {letters[i]: i for i in range(len(letters))}\n",
    "letter_encodings[\" \"] = len(letters) #Encode padding as the last index in the array due to how CTC handles blank space\n",
    "\n",
    "num_encodings = {letter_encodings[key]:key for key in list(letter_encodings.keys())}\n",
    "\n",
    "word_encodings = {word_set[i]: [letter_encodings[letter] for letter in word_set[i]] for i in range(len(word_set))}\n",
    "\n",
    "print(f\"Letters to numbers: {letter_encodings}\")\n",
    "print(f\"Numbers to letters: {num_encodings}\")\n",
    "print(f\"Word to numbers: {word_encodings}\")\n",
    "\n",
    "num_letters = len(letters)"
   ]
  },
  {
   "cell_type": "code",
   "execution_count": 237,
   "metadata": {
    "executionInfo": {
     "elapsed": 18,
     "status": "ok",
     "timestamp": 1698090830420,
     "user": {
      "displayName": "Jack Pay",
      "userId": "06088299984570525080"
     },
     "user_tz": -60
    },
    "id": "ZUrYBfUrEx7N"
   },
   "outputs": [],
   "source": [
    "#Numeric\n",
    "def encode_letter(letter:str):\n",
    "    return letter_encodings[letter]\n",
    "\n",
    "def encode_word(word:str, pad=False):\n",
    "    vid_length = len(train_X[0])\n",
    "    temp = word_encodings[word]\n",
    "\n",
    "    if(pad):\n",
    "        while(len(temp) < vid_length):\n",
    "            temp.append(0.0)\n",
    "    return np.array(temp)\n",
    "\n",
    "def decode_word(encoded_word):\n",
    "    word = \"\"\n",
    "    for num in encoded_word:\n",
    "        word += num_encodings[num]\n",
    "    return word\n",
    "\n",
    "def encode_labels(labels):\n",
    "    return np.array([encode_word(label.ljust(number_of_frames, ' ')) for label in labels])\n",
    "\n",
    "#One hot\n",
    "# def encode_letter(letter:str):\n",
    "#     return letter_encoder(letter).numpy()\n",
    "\n",
    "# def encode_word(word:str):\n",
    "#     word = word\n",
    "#     ret_word = []\n",
    "#     for letter in word:\n",
    "#         ret_word.append(letter_encoder(letter).numpy())\n",
    "#     return ret_word\n",
    "\n",
    "# def decode_word(encoded_word):\n",
    "#     word = \"\"\n",
    "#     for one_hot in encoded_word:\n",
    "#         word += letters[np.argmax(one_hot)]\n",
    "#     return word\n",
    "\n",
    "# def encode_labels(labels):\n",
    "#     return np.array([encode_word(label) for label in labels])"
   ]
  },
  {
   "cell_type": "code",
   "execution_count": 238,
   "metadata": {
    "colab": {
     "base_uri": "https://localhost:8080/"
    },
    "executionInfo": {
     "elapsed": 18,
     "status": "ok",
     "timestamp": 1698090830421,
     "user": {
      "displayName": "Jack Pay",
      "userId": "06088299984570525080"
     },
     "user_tz": -60
    },
    "id": "JWyWpPwREx7N",
    "outputId": "be7f088f-99b1-47d3-986d-a2ce18e2b1f1"
   },
   "outputs": [
    {
     "name": "stdout",
     "output_type": "stream",
     "text": [
      "[[ 5  1  9 ... 16 16 16]\n",
      " [ 5  1  9 ... 16 16 16]\n",
      " [ 3  6  1 ... 16 16 16]\n",
      " ...\n",
      " [ 5  1  9 ... 16 16 16]\n",
      " [ 3  6  1 ... 16 16 16]\n",
      " [ 3  6  1 ... 16 16 16]]\n",
      "(6930, 21)\n"
     ]
    }
   ],
   "source": [
    "train_Y = encode_labels(labels=train_Y)\n",
    "test_Y = encode_labels(labels=test_Y)\n",
    "val_Y = encode_labels(labels=val_Y)\n",
    "\n",
    "print(train_Y)\n",
    "print(np.shape(train_Y))"
   ]
  },
  {
   "cell_type": "markdown",
   "metadata": {
    "id": "-2zVJVheEx7O"
   },
   "source": [
    "# Model Training"
   ]
  },
  {
   "cell_type": "markdown",
   "metadata": {},
   "source": [
    "## Learning Rate Scheduler"
   ]
  },
  {
   "cell_type": "code",
   "execution_count": 239,
   "metadata": {},
   "outputs": [],
   "source": [
    "initial_lr = 0.001\n",
    "\n",
    "# def scheduler(epoch, lr):\n",
    "#     if(epoch < 30):\n",
    "#         return lr\n",
    "#     else:\n",
    "#         return lr * tf.math.exp(-0.01)\n",
    "# schedule_callback = LearningRateScheduler(scheduler)\n",
    "\n",
    "model_checkpoint_callback = tf.keras.callbacks.ModelCheckpoint(\n",
    "    filepath=os.path.join(proj_model_dir, \"best_run.hdf5\"),\n",
    "    save_weights_only=True,\n",
    "    monitor='val_accuracy',\n",
    "    mode='max',\n",
    "    save_best_only=True)\n",
    "\n",
    "lr_schedule = tf.keras.optimizers.schedules.ExponentialDecay(initial_lr,decay_steps=275,decay_rate=0.975,staircase=True)"
   ]
  },
  {
   "cell_type": "markdown",
   "metadata": {},
   "source": [
    "## Model Architecture"
   ]
  },
  {
   "cell_type": "markdown",
   "metadata": {
    "id": "uh6xKd9mEx7O"
   },
   "source": [
    "Model is video based & word based. It uses feature vectors extracted for each frame."
   ]
  },
  {
   "cell_type": "code",
   "execution_count": 240,
   "metadata": {},
   "outputs": [
    {
     "name": "stdout",
     "output_type": "stream",
     "text": [
      "(6930, 21, 40, 3)\n",
      "(6930, 21)\n",
      "(990, 21, 40, 3)\n",
      "(990, 21)\n"
     ]
    }
   ],
   "source": [
    "print(np.shape(train_X))\n",
    "print(np.shape(train_Y))\n",
    "\n",
    "print(np.shape(val_X))\n",
    "print(np.shape(val_Y))"
   ]
  },
  {
   "cell_type": "code",
   "execution_count": 241,
   "metadata": {
    "executionInfo": {
     "elapsed": 22431,
     "status": "ok",
     "timestamp": 1698091266651,
     "user": {
      "displayName": "Jack Pay",
      "userId": "06088299984570525080"
     },
     "user_tz": -60
    },
    "id": "Ibe4XOCvEx7O"
   },
   "outputs": [],
   "source": [
    "batch_size: int = 32\n",
    "\n",
    "train_ds = tf.data.Dataset.from_tensor_slices(\n",
    "  (train_X, train_Y)\n",
    ")\n",
    "train_ds = train_ds.padded_batch(batch_size, padded_shapes=(np.shape(train_X[0]),np.shape(train_Y[0])))\n",
    "train_ds = train_ds.prefetch(tf.data.AUTOTUNE)\n",
    "\n",
    "test_ds = tf.data.Dataset.from_tensor_slices(\n",
    "  (test_X, test_Y)\n",
    ")\n",
    "test_ds = test_ds.padded_batch(batch_size, padded_shapes=(np.shape(test_X[0]),np.shape(test_Y[0])))\n",
    "test_ds = test_ds.prefetch(tf.data.AUTOTUNE)\n",
    "\n",
    "val_ds = tf.data.Dataset.from_tensor_slices(\n",
    "  (val_X, val_Y)\n",
    ")\n",
    "val_ds = test_ds.padded_batch(batch_size, padded_shapes=((None,) + np.shape(val_X[0]),(None,) + np.shape(val_Y[0])))\n",
    "val_ds = test_ds.prefetch(tf.data.AUTOTUNE)"
   ]
  },
  {
   "cell_type": "code",
   "execution_count": 242,
   "metadata": {
    "colab": {
     "base_uri": "https://localhost:8080/"
    },
    "executionInfo": {
     "elapsed": 502,
     "status": "ok",
     "timestamp": 1698091267139,
     "user": {
      "displayName": "Jack Pay",
      "userId": "06088299984570525080"
     },
     "user_tz": -60
    },
    "id": "qgxaEyGCEx7P",
    "outputId": "8507aedf-8bec-498d-b091-3ce41e7a0674"
   },
   "outputs": [],
   "source": [
    "### Vanilla Bi-LSTM\n",
    "model = Sequential([\n",
    "   layers.InputLayer(input_shape= (None, 40,3)),\n",
    "   layers.TimeDistributed(Flatten()),\n",
    "   layers.Bidirectional(LSTM(128,activation='relu', return_sequences=True)),\n",
    "   layers.Bidirectional(LSTM(128,activation='relu', return_sequences=True)),\n",
    "   layers.Bidirectional(LSTM(128,activation='relu', return_sequences=True)),\n",
    "   layers.Dense(64,activation='relu'),\n",
    "   layers.Dense(32,activation='relu'),\n",
    "   layers.Dense(num_letters + 1,activation='softmax')\n",
    "])\n",
    "\n",
    "#Added attention layer\n",
    "# input_layer = Input(shape= np.shape(train_X[0]))\n",
    "# flatten_layer = TimeDistributed(Flatten())(input_layer)\n",
    "# attention_layer = Attention(use_scale=True)([flatten_layer,flatten_layer])\n",
    "# bilstm_layer1 = Bidirectional(LSTM(128,activation='relu', return_sequences=True))(attention_layer)\n",
    "# bilstm_layer2 = Bidirectional(LSTM(128,activation='relu', return_sequences=True))(bilstm_layer1)\n",
    "# bilstm_layer3 = Bidirectional(LSTM(128,activation='relu', return_sequences=False))(bilstm_layer2)\n",
    "# dense_layer1 = Dense(64,activation='relu')(bilstm_layer3)\n",
    "# dropout_layer1 = Dropout(0.2)(dense_layer1)\n",
    "# dense_layer2 = Dense(64,activation='relu')(dropout_layer1)\n",
    "# dropout_layer2 = Dropout(0.2)(dense_layer2)\n",
    "# dense_layer3 = Dense(64,activation='relu')(dropout_layer2)\n",
    "# dropout_layer3 = Dropout(0.2)(dense_layer3)\n",
    "# output_layer = Dense(num_letters,activation='softmax')(dropout_layer3)\n",
    "# model = Model(inputs=input_layer, outputs=output_layer)"
   ]
  },
  {
   "cell_type": "code",
   "execution_count": 243,
   "metadata": {},
   "outputs": [],
   "source": [
    "def CTCLoss(y_true, y_pred):\n",
    "    # Compute the training-time loss value\n",
    "\n",
    "    batch_len = tf.cast(tf.shape(y_pred)[0], dtype=\"int64\")\n",
    "    input_length = tf.cast(tf.shape(y_pred)[1], dtype=\"int64\")\n",
    "    label_length = tf.cast(tf.shape(y_true)[1], dtype=\"int64\")\n",
    "    \n",
    "    input_length = input_length * tf.ones(shape=(batch_len, 1), dtype=\"int64\")\n",
    "    label_length = label_length * tf.ones(shape=(batch_len, 1), dtype=\"int64\")\n",
    "    loss = keras.backend.ctc_batch_cost(y_true, y_pred, input_length, label_length)\n",
    "    return loss"
   ]
  },
  {
   "cell_type": "code",
   "execution_count": 244,
   "metadata": {
    "executionInfo": {
     "elapsed": 10,
     "status": "ok",
     "timestamp": 1698091267139,
     "user": {
      "displayName": "Jack Pay",
      "userId": "06088299984570525080"
     },
     "user_tz": -60
    },
    "id": "LAp04lG7Ex7P"
   },
   "outputs": [],
   "source": [
    "model.compile(optimizer=Adam(learning_rate=lr_schedule),\n",
    "              loss=CTCLoss,\n",
    "              metrics=['accuracy'])"
   ]
  },
  {
   "cell_type": "code",
   "execution_count": 245,
   "metadata": {
    "colab": {
     "base_uri": "https://localhost:8080/"
    },
    "executionInfo": {
     "elapsed": 9,
     "status": "ok",
     "timestamp": 1698091267139,
     "user": {
      "displayName": "Jack Pay",
      "userId": "06088299984570525080"
     },
     "user_tz": -60
    },
    "id": "BzzzxyMwEx7P",
    "outputId": "50f6ee3d-ac9a-460e-9874-48c21853c619"
   },
   "outputs": [
    {
     "name": "stdout",
     "output_type": "stream",
     "text": [
      "Model: \"sequential_4\"\n",
      "_________________________________________________________________\n",
      " Layer (type)                Output Shape              Param #   \n",
      "=================================================================\n",
      " time_distributed_4 (TimeDi  (None, None, 120)         0         \n",
      " stributed)                                                      \n",
      "                                                                 \n",
      " bidirectional_12 (Bidirect  (None, None, 256)         254976    \n",
      " ional)                                                          \n",
      "                                                                 \n",
      " bidirectional_13 (Bidirect  (None, None, 256)         394240    \n",
      " ional)                                                          \n",
      "                                                                 \n",
      " bidirectional_14 (Bidirect  (None, None, 256)         394240    \n",
      " ional)                                                          \n",
      "                                                                 \n",
      " dense_12 (Dense)            (None, None, 64)          16448     \n",
      "                                                                 \n",
      " dense_13 (Dense)            (None, None, 32)          2080      \n",
      "                                                                 \n",
      " dense_14 (Dense)            (None, None, 17)          561       \n",
      "                                                                 \n",
      "=================================================================\n",
      "Total params: 1062545 (4.05 MB)\n",
      "Trainable params: 1062545 (4.05 MB)\n",
      "Non-trainable params: 0 (0.00 Byte)\n",
      "_________________________________________________________________\n"
     ]
    }
   ],
   "source": [
    "model.summary()"
   ]
  },
  {
   "cell_type": "markdown",
   "metadata": {
    "id": "6-VepzV3Ex7P"
   },
   "source": [
    "## Example Before Training"
   ]
  },
  {
   "cell_type": "code",
   "execution_count": 246,
   "metadata": {
    "colab": {
     "base_uri": "https://localhost:8080/"
    },
    "executionInfo": {
     "elapsed": 999,
     "status": "ok",
     "timestamp": 1698091268134,
     "user": {
      "displayName": "Jack Pay",
      "userId": "06088299984570525080"
     },
     "user_tz": -60
    },
    "id": "YUMqqPpBEx7P",
    "outputId": "2fa40a07-8f91-43d2-8822-0c5b430cd124"
   },
   "outputs": [
    {
     "name": "stdout",
     "output_type": "stream",
     "text": [
      "Model input shape: (None, None, 40, 3)\n",
      "Model output shape: (None, None, 17)\n",
      "1/1 [==============================] - 1s 1s/step\n",
      "Predicted: [[[0.059919   0.05791303 0.05852776 0.05820153 0.05852146 0.0586661\n",
      "   0.05950758 0.05703598 0.06070962 0.05957311 0.0595835  0.05762992\n",
      "   0.05741607 0.05935863 0.05855318 0.05981034 0.05907324]\n",
      "  [0.05973083 0.0580931  0.05875749 0.05775347 0.05835762 0.05821485\n",
      "   0.05975838 0.05701226 0.06072158 0.05971663 0.05954936 0.05790059\n",
      "   0.05750358 0.05929398 0.05842002 0.05969166 0.05952456]\n",
      "  [0.05954871 0.05813366 0.05889234 0.05738734 0.05830694 0.05793029\n",
      "   0.05997892 0.05703457 0.06069703 0.05983683 0.05952663 0.05815679\n",
      "   0.0574892  0.05924265 0.05844468 0.05955277 0.05984066]\n",
      "  [0.05942667 0.05813772 0.05905646 0.05709195 0.0583156  0.05757446\n",
      "   0.06011064 0.05710137 0.06066612 0.05999515 0.05955831 0.05841774\n",
      "   0.05739529 0.05906807 0.05857907 0.05948095 0.06002441]\n",
      "  [0.05932325 0.05814006 0.05926822 0.05683516 0.05839071 0.05725551\n",
      "   0.06014895 0.05715922 0.06063911 0.06012062 0.05965663 0.05862286\n",
      "   0.0573365  0.05884637 0.05870533 0.05943351 0.06011799]\n",
      "  [0.05923814 0.05812993 0.05945619 0.0566337  0.05848839 0.05699852\n",
      "   0.06012417 0.057198   0.06064888 0.06025033 0.05972021 0.05879734\n",
      "   0.05724996 0.05868665 0.05880255 0.05942573 0.06015137]\n",
      "  [0.05918075 0.0580982  0.05961008 0.05649093 0.05860731 0.05682192\n",
      "   0.06006059 0.05721017 0.06070096 0.06037379 0.05974929 0.05893424\n",
      "   0.05715898 0.05858849 0.05885199 0.0594404  0.06012198]\n",
      "  [0.05912314 0.05806757 0.05973526 0.05638245 0.05874089 0.05670904\n",
      "   0.05996387 0.05722564 0.06076269 0.0604601  0.05975987 0.05904583\n",
      "   0.05710162 0.05852081 0.05887579 0.05945904 0.06006644]\n",
      "  [0.05907948 0.05799846 0.05978341 0.05633603 0.05891841 0.05669447\n",
      "   0.05976509 0.05728881 0.06087167 0.06044009 0.05975245 0.05912729\n",
      "   0.05708595 0.05842473 0.05892913 0.05951805 0.05998648]\n",
      "  [0.05905288 0.05792807 0.05985051 0.05638468 0.05912411 0.05679747\n",
      "   0.05947297 0.05735087 0.06098757 0.06033561 0.05975612 0.05911819\n",
      "   0.05703693 0.05835377 0.05901393 0.05955963 0.05987665]\n",
      "  [0.05904006 0.05787405 0.05987538 0.05648537 0.05931097 0.056964\n",
      "   0.05915132 0.05743537 0.06110375 0.06018842 0.05972865 0.05908521\n",
      "   0.05701767 0.05830562 0.05909897 0.05960017 0.05973507]\n",
      "  [0.059034   0.05785692 0.05989128 0.05660768 0.05945783 0.05717557\n",
      "   0.05882976 0.05753304 0.06119742 0.06002412 0.05967225 0.05903973\n",
      "   0.057017   0.05827542 0.05918648 0.05963011 0.05957131]\n",
      "  [0.05903326 0.05786226 0.05987961 0.05674306 0.05958381 0.05740093\n",
      "   0.05853844 0.05765387 0.06126038 0.05983586 0.05960704 0.05896955\n",
      "   0.05704404 0.05824092 0.05928715 0.05965725 0.0594025 ]\n",
      "  [0.0590205  0.05793066 0.05981927 0.05692347 0.05961686 0.05765592\n",
      "   0.05830584 0.05782462 0.06120697 0.05960028 0.05953204 0.05889128\n",
      "   0.0571481  0.05821678 0.05941464 0.0596342  0.05925848]\n",
      "  [0.05900605 0.05801391 0.05978966 0.05706074 0.05957821 0.05786754\n",
      "   0.05817035 0.05800598 0.06108582 0.05942068 0.05942418 0.05888218\n",
      "   0.05725728 0.05819909 0.0595234  0.05957292 0.05914202]\n",
      "  [0.05907832 0.05802296 0.05967322 0.05731411 0.05946119 0.05801146\n",
      "   0.05817053 0.05824633 0.06090564 0.05926508 0.05925569 0.05894345\n",
      "   0.05737166 0.05819888 0.05956228 0.05945207 0.05906716]\n",
      "  [0.0591909  0.05798279 0.05951967 0.05760522 0.05938977 0.05805163\n",
      "   0.05821614 0.05851926 0.06063927 0.0591979  0.05911402 0.05904727\n",
      "   0.05745271 0.05818829 0.05951413 0.05932842 0.05904259]\n",
      "  [0.0594082  0.05800141 0.05935164 0.05799379 0.05927046 0.05808647\n",
      "   0.05816155 0.05873701 0.0603353  0.05922626 0.05901241 0.05914877\n",
      "   0.05747209 0.05817251 0.05939971 0.05918584 0.05903658]\n",
      "  [0.05958211 0.05807864 0.05912285 0.05830793 0.05917274 0.05826497\n",
      "   0.05801904 0.0588103  0.06011778 0.05928729 0.05905623 0.05921499\n",
      "   0.05757989 0.05814158 0.05929093 0.0590781  0.05887463]\n",
      "  [0.05984047 0.05811485 0.05886184 0.05852382 0.05911895 0.05846548\n",
      "   0.0580653  0.05883221 0.05995904 0.05939054 0.05902156 0.05926967\n",
      "   0.05774116 0.05814686 0.05908812 0.05896025 0.05859978]\n",
      "  [0.06018323 0.05810627 0.05856782 0.05877086 0.05910023 0.05865736\n",
      "   0.0583452  0.0588079  0.05973534 0.05952423 0.05891074 0.0592486\n",
      "   0.05800724 0.05814989 0.05877932 0.05879282 0.05831289]]]\n",
      "True: [ 5  1  9  7  8 15 16 16 16 16 16 16 16 16 16 16 16 16 16 16 16]\n",
      "Predicted shape: (1, 21, 17)\n",
      "True shape: (21,)\n"
     ]
    },
    {
     "ename": "KeyError",
     "evalue": "0",
     "output_type": "error",
     "traceback": [
      "\u001b[1;31m---------------------------------------------------------------------------\u001b[0m",
      "\u001b[1;31mKeyError\u001b[0m                                  Traceback (most recent call last)",
      "\u001b[1;32mc:\\Users\\jack\\Dropbox\\Jack's Stuff\\Uni\\Computer Science\\year3\\(0) 3rd Year Project\\3rd-year-project\\colabs\\Train Word Based.ipynb Cell 39\u001b[0m line \u001b[0;36m1\n\u001b[0;32m     <a href='vscode-notebook-cell:/c%3A/Users/jack/Dropbox/Jack%27s%20Stuff/Uni/Computer%20Science/year3/%280%29%203rd%20Year%20Project/3rd-year-project/colabs/Train%20Word%20Based.ipynb#X53sZmlsZQ%3D%3D?line=13'>14</a>\u001b[0m \u001b[39mprint\u001b[39m(\u001b[39mf\u001b[39m\u001b[39m\"\u001b[39m\u001b[39mPredicted shape: \u001b[39m\u001b[39m{\u001b[39;00mnp\u001b[39m.\u001b[39mshape(test_out)\u001b[39m}\u001b[39;00m\u001b[39m\"\u001b[39m)\n\u001b[0;32m     <a href='vscode-notebook-cell:/c%3A/Users/jack/Dropbox/Jack%27s%20Stuff/Uni/Computer%20Science/year3/%280%29%203rd%20Year%20Project/3rd-year-project/colabs/Train%20Word%20Based.ipynb#X53sZmlsZQ%3D%3D?line=14'>15</a>\u001b[0m \u001b[39mprint\u001b[39m(\u001b[39mf\u001b[39m\u001b[39m\"\u001b[39m\u001b[39mTrue shape: \u001b[39m\u001b[39m{\u001b[39;00mnp\u001b[39m.\u001b[39mshape(test_label)\u001b[39m}\u001b[39;00m\u001b[39m\"\u001b[39m)\n\u001b[1;32m---> <a href='vscode-notebook-cell:/c%3A/Users/jack/Dropbox/Jack%27s%20Stuff/Uni/Computer%20Science/year3/%280%29%203rd%20Year%20Project/3rd-year-project/colabs/Train%20Word%20Based.ipynb#X53sZmlsZQ%3D%3D?line=16'>17</a>\u001b[0m \u001b[39mprint\u001b[39m(\u001b[39mf\u001b[39m\u001b[39m\"\u001b[39m\u001b[39mTranslated Predicted: \u001b[39m\u001b[39m{\u001b[39;00mdecode_word(predicted\u001b[39m.\u001b[39;49mnumpy()[\u001b[39m0\u001b[39;49m])\u001b[39m}\u001b[39;00m\u001b[39m\"\u001b[39m)\n\u001b[0;32m     <a href='vscode-notebook-cell:/c%3A/Users/jack/Dropbox/Jack%27s%20Stuff/Uni/Computer%20Science/year3/%280%29%203rd%20Year%20Project/3rd-year-project/colabs/Train%20Word%20Based.ipynb#X53sZmlsZQ%3D%3D?line=17'>18</a>\u001b[0m \u001b[39mprint\u001b[39m(\u001b[39mf\u001b[39m\u001b[39m\"\u001b[39m\u001b[39mTranslated True: \u001b[39m\u001b[39m{\u001b[39;00mdecode_word(test_label)\u001b[39m}\u001b[39;00m\u001b[39m\"\u001b[39m)\n",
      "\u001b[1;32mc:\\Users\\jack\\Dropbox\\Jack's Stuff\\Uni\\Computer Science\\year3\\(0) 3rd Year Project\\3rd-year-project\\colabs\\Train Word Based.ipynb Cell 39\u001b[0m line \u001b[0;36m1\n\u001b[0;32m     <a href='vscode-notebook-cell:/c%3A/Users/jack/Dropbox/Jack%27s%20Stuff/Uni/Computer%20Science/year3/%280%29%203rd%20Year%20Project/3rd-year-project/colabs/Train%20Word%20Based.ipynb#X53sZmlsZQ%3D%3D?line=14'>15</a>\u001b[0m word \u001b[39m=\u001b[39m \u001b[39m\"\u001b[39m\u001b[39m\"\u001b[39m\n\u001b[0;32m     <a href='vscode-notebook-cell:/c%3A/Users/jack/Dropbox/Jack%27s%20Stuff/Uni/Computer%20Science/year3/%280%29%203rd%20Year%20Project/3rd-year-project/colabs/Train%20Word%20Based.ipynb#X53sZmlsZQ%3D%3D?line=15'>16</a>\u001b[0m \u001b[39mfor\u001b[39;00m num \u001b[39min\u001b[39;00m encoded_word:\n\u001b[1;32m---> <a href='vscode-notebook-cell:/c%3A/Users/jack/Dropbox/Jack%27s%20Stuff/Uni/Computer%20Science/year3/%280%29%203rd%20Year%20Project/3rd-year-project/colabs/Train%20Word%20Based.ipynb#X53sZmlsZQ%3D%3D?line=16'>17</a>\u001b[0m     word \u001b[39m+\u001b[39m\u001b[39m=\u001b[39m num_encodings[num]\n\u001b[0;32m     <a href='vscode-notebook-cell:/c%3A/Users/jack/Dropbox/Jack%27s%20Stuff/Uni/Computer%20Science/year3/%280%29%203rd%20Year%20Project/3rd-year-project/colabs/Train%20Word%20Based.ipynb#X53sZmlsZQ%3D%3D?line=17'>18</a>\u001b[0m \u001b[39mreturn\u001b[39;00m word\n",
      "\u001b[1;31mKeyError\u001b[0m: 0"
     ]
    }
   ],
   "source": [
    "test_sample = train_X[0]\n",
    "test_sample = tf.expand_dims(test_sample, 0)\n",
    "\n",
    "test_label = train_Y[0]\n",
    "\n",
    "print(f\"Model input shape: {model.input_shape}\")\n",
    "print(f\"Model output shape: {model.output_shape}\")\n",
    "test_out = model.predict(test_sample)\n",
    "predicted = tf.argmax(test_out,axis=2)\n",
    "\n",
    "print(f\"Predicted: {test_out}\")\n",
    "print(f\"True: {test_label}\")\n",
    "\n",
    "print(f\"Predicted shape: {np.shape(test_out)}\")\n",
    "print(f\"True shape: {np.shape(test_label)}\")\n",
    "\n",
    "print(f\"Translated Predicted: {decode_word(predicted.numpy()[0])}\")\n",
    "print(f\"Translated True: {decode_word(test_label)}\")"
   ]
  },
  {
   "cell_type": "markdown",
   "metadata": {
    "id": "BZijKIcSEx7P"
   },
   "source": [
    "## Training"
   ]
  },
  {
   "cell_type": "code",
   "execution_count": 247,
   "metadata": {
    "colab": {
     "base_uri": "https://localhost:8080/"
    },
    "executionInfo": {
     "elapsed": 1391701,
     "status": "ok",
     "timestamp": 1698093072901,
     "user": {
      "displayName": "Jack Pay",
      "userId": "06088299984570525080"
     },
     "user_tz": -60
    },
    "id": "Wycr1zjaEx7Q",
    "outputId": "e065a4cb-9876-45fe-f95e-07af62e70869"
   },
   "outputs": [
    {
     "name": "stdout",
     "output_type": "stream",
     "text": [
      "Epoch 1/200\n",
      "199/217 [==========================>...] - ETA: 1s - loss: 14.4915 - accuracy: 0.4884"
     ]
    },
    {
     "ename": "KeyboardInterrupt",
     "evalue": "",
     "output_type": "error",
     "traceback": [
      "\u001b[1;31m---------------------------------------------------------------------------\u001b[0m",
      "\u001b[1;31mKeyboardInterrupt\u001b[0m                         Traceback (most recent call last)",
      "\u001b[1;32mc:\\Users\\jack\\Dropbox\\Jack's Stuff\\Uni\\Computer Science\\year3\\(0) 3rd Year Project\\3rd-year-project\\colabs\\Train Word Based.ipynb Cell 41\u001b[0m line \u001b[0;36m2\n\u001b[0;32m      <a href='vscode-notebook-cell:/c%3A/Users/jack/Dropbox/Jack%27s%20Stuff/Uni/Computer%20Science/year3/%280%29%203rd%20Year%20Project/3rd-year-project/colabs/Train%20Word%20Based.ipynb#X55sZmlsZQ%3D%3D?line=0'>1</a>\u001b[0m epochs \u001b[39m=\u001b[39m \u001b[39m200\u001b[39m\n\u001b[1;32m----> <a href='vscode-notebook-cell:/c%3A/Users/jack/Dropbox/Jack%27s%20Stuff/Uni/Computer%20Science/year3/%280%29%203rd%20Year%20Project/3rd-year-project/colabs/Train%20Word%20Based.ipynb#X55sZmlsZQ%3D%3D?line=1'>2</a>\u001b[0m history \u001b[39m=\u001b[39m model\u001b[39m.\u001b[39;49mfit(\n\u001b[0;32m      <a href='vscode-notebook-cell:/c%3A/Users/jack/Dropbox/Jack%27s%20Stuff/Uni/Computer%20Science/year3/%280%29%203rd%20Year%20Project/3rd-year-project/colabs/Train%20Word%20Based.ipynb#X55sZmlsZQ%3D%3D?line=2'>3</a>\u001b[0m   train_ds,\n\u001b[0;32m      <a href='vscode-notebook-cell:/c%3A/Users/jack/Dropbox/Jack%27s%20Stuff/Uni/Computer%20Science/year3/%280%29%203rd%20Year%20Project/3rd-year-project/colabs/Train%20Word%20Based.ipynb#X55sZmlsZQ%3D%3D?line=3'>4</a>\u001b[0m   validation_data\u001b[39m=\u001b[39;49mtest_ds,\n\u001b[0;32m      <a href='vscode-notebook-cell:/c%3A/Users/jack/Dropbox/Jack%27s%20Stuff/Uni/Computer%20Science/year3/%280%29%203rd%20Year%20Project/3rd-year-project/colabs/Train%20Word%20Based.ipynb#X55sZmlsZQ%3D%3D?line=4'>5</a>\u001b[0m   epochs\u001b[39m=\u001b[39;49mepochs,\n\u001b[0;32m      <a href='vscode-notebook-cell:/c%3A/Users/jack/Dropbox/Jack%27s%20Stuff/Uni/Computer%20Science/year3/%280%29%203rd%20Year%20Project/3rd-year-project/colabs/Train%20Word%20Based.ipynb#X55sZmlsZQ%3D%3D?line=5'>6</a>\u001b[0m   callbacks\u001b[39m=\u001b[39;49m[model_checkpoint_callback]\n\u001b[0;32m      <a href='vscode-notebook-cell:/c%3A/Users/jack/Dropbox/Jack%27s%20Stuff/Uni/Computer%20Science/year3/%280%29%203rd%20Year%20Project/3rd-year-project/colabs/Train%20Word%20Based.ipynb#X55sZmlsZQ%3D%3D?line=6'>7</a>\u001b[0m )\n",
      "File \u001b[1;32mc:\\Users\\jack\\AppData\\Local\\Programs\\Python\\Python310\\lib\\site-packages\\keras\\src\\utils\\traceback_utils.py:65\u001b[0m, in \u001b[0;36mfilter_traceback.<locals>.error_handler\u001b[1;34m(*args, **kwargs)\u001b[0m\n\u001b[0;32m     63\u001b[0m filtered_tb \u001b[39m=\u001b[39m \u001b[39mNone\u001b[39;00m\n\u001b[0;32m     64\u001b[0m \u001b[39mtry\u001b[39;00m:\n\u001b[1;32m---> 65\u001b[0m     \u001b[39mreturn\u001b[39;00m fn(\u001b[39m*\u001b[39margs, \u001b[39m*\u001b[39m\u001b[39m*\u001b[39mkwargs)\n\u001b[0;32m     66\u001b[0m \u001b[39mexcept\u001b[39;00m \u001b[39mException\u001b[39;00m \u001b[39mas\u001b[39;00m e:\n\u001b[0;32m     67\u001b[0m     filtered_tb \u001b[39m=\u001b[39m _process_traceback_frames(e\u001b[39m.\u001b[39m__traceback__)\n",
      "File \u001b[1;32mc:\\Users\\jack\\AppData\\Local\\Programs\\Python\\Python310\\lib\\site-packages\\keras\\src\\engine\\training.py:1783\u001b[0m, in \u001b[0;36mModel.fit\u001b[1;34m(self, x, y, batch_size, epochs, verbose, callbacks, validation_split, validation_data, shuffle, class_weight, sample_weight, initial_epoch, steps_per_epoch, validation_steps, validation_batch_size, validation_freq, max_queue_size, workers, use_multiprocessing)\u001b[0m\n\u001b[0;32m   1775\u001b[0m \u001b[39mwith\u001b[39;00m tf\u001b[39m.\u001b[39mprofiler\u001b[39m.\u001b[39mexperimental\u001b[39m.\u001b[39mTrace(\n\u001b[0;32m   1776\u001b[0m     \u001b[39m\"\u001b[39m\u001b[39mtrain\u001b[39m\u001b[39m\"\u001b[39m,\n\u001b[0;32m   1777\u001b[0m     epoch_num\u001b[39m=\u001b[39mepoch,\n\u001b[1;32m   (...)\u001b[0m\n\u001b[0;32m   1780\u001b[0m     _r\u001b[39m=\u001b[39m\u001b[39m1\u001b[39m,\n\u001b[0;32m   1781\u001b[0m ):\n\u001b[0;32m   1782\u001b[0m     callbacks\u001b[39m.\u001b[39mon_train_batch_begin(step)\n\u001b[1;32m-> 1783\u001b[0m     tmp_logs \u001b[39m=\u001b[39m \u001b[39mself\u001b[39;49m\u001b[39m.\u001b[39;49mtrain_function(iterator)\n\u001b[0;32m   1784\u001b[0m     \u001b[39mif\u001b[39;00m data_handler\u001b[39m.\u001b[39mshould_sync:\n\u001b[0;32m   1785\u001b[0m         context\u001b[39m.\u001b[39masync_wait()\n",
      "File \u001b[1;32mc:\\Users\\jack\\AppData\\Local\\Programs\\Python\\Python310\\lib\\site-packages\\tensorflow\\python\\util\\traceback_utils.py:150\u001b[0m, in \u001b[0;36mfilter_traceback.<locals>.error_handler\u001b[1;34m(*args, **kwargs)\u001b[0m\n\u001b[0;32m    148\u001b[0m filtered_tb \u001b[39m=\u001b[39m \u001b[39mNone\u001b[39;00m\n\u001b[0;32m    149\u001b[0m \u001b[39mtry\u001b[39;00m:\n\u001b[1;32m--> 150\u001b[0m   \u001b[39mreturn\u001b[39;00m fn(\u001b[39m*\u001b[39margs, \u001b[39m*\u001b[39m\u001b[39m*\u001b[39mkwargs)\n\u001b[0;32m    151\u001b[0m \u001b[39mexcept\u001b[39;00m \u001b[39mException\u001b[39;00m \u001b[39mas\u001b[39;00m e:\n\u001b[0;32m    152\u001b[0m   filtered_tb \u001b[39m=\u001b[39m _process_traceback_frames(e\u001b[39m.\u001b[39m__traceback__)\n",
      "File \u001b[1;32mc:\\Users\\jack\\AppData\\Local\\Programs\\Python\\Python310\\lib\\site-packages\\tensorflow\\python\\eager\\polymorphic_function\\polymorphic_function.py:831\u001b[0m, in \u001b[0;36mFunction.__call__\u001b[1;34m(self, *args, **kwds)\u001b[0m\n\u001b[0;32m    828\u001b[0m compiler \u001b[39m=\u001b[39m \u001b[39m\"\u001b[39m\u001b[39mxla\u001b[39m\u001b[39m\"\u001b[39m \u001b[39mif\u001b[39;00m \u001b[39mself\u001b[39m\u001b[39m.\u001b[39m_jit_compile \u001b[39melse\u001b[39;00m \u001b[39m\"\u001b[39m\u001b[39mnonXla\u001b[39m\u001b[39m\"\u001b[39m\n\u001b[0;32m    830\u001b[0m \u001b[39mwith\u001b[39;00m OptionalXlaContext(\u001b[39mself\u001b[39m\u001b[39m.\u001b[39m_jit_compile):\n\u001b[1;32m--> 831\u001b[0m   result \u001b[39m=\u001b[39m \u001b[39mself\u001b[39m\u001b[39m.\u001b[39m_call(\u001b[39m*\u001b[39margs, \u001b[39m*\u001b[39m\u001b[39m*\u001b[39mkwds)\n\u001b[0;32m    833\u001b[0m new_tracing_count \u001b[39m=\u001b[39m \u001b[39mself\u001b[39m\u001b[39m.\u001b[39mexperimental_get_tracing_count()\n\u001b[0;32m    834\u001b[0m without_tracing \u001b[39m=\u001b[39m (tracing_count \u001b[39m==\u001b[39m new_tracing_count)\n",
      "File \u001b[1;32mc:\\Users\\jack\\AppData\\Local\\Programs\\Python\\Python310\\lib\\site-packages\\tensorflow\\python\\eager\\polymorphic_function\\polymorphic_function.py:867\u001b[0m, in \u001b[0;36mFunction._call\u001b[1;34m(self, *args, **kwds)\u001b[0m\n\u001b[0;32m    864\u001b[0m   \u001b[39mself\u001b[39m\u001b[39m.\u001b[39m_lock\u001b[39m.\u001b[39mrelease()\n\u001b[0;32m    865\u001b[0m   \u001b[39m# In this case we have created variables on the first call, so we run the\u001b[39;00m\n\u001b[0;32m    866\u001b[0m   \u001b[39m# defunned version which is guaranteed to never create variables.\u001b[39;00m\n\u001b[1;32m--> 867\u001b[0m   \u001b[39mreturn\u001b[39;00m tracing_compilation\u001b[39m.\u001b[39;49mcall_function(\n\u001b[0;32m    868\u001b[0m       args, kwds, \u001b[39mself\u001b[39;49m\u001b[39m.\u001b[39;49m_no_variable_creation_config\n\u001b[0;32m    869\u001b[0m   )\n\u001b[0;32m    870\u001b[0m \u001b[39melif\u001b[39;00m \u001b[39mself\u001b[39m\u001b[39m.\u001b[39m_variable_creation_config \u001b[39mis\u001b[39;00m \u001b[39mnot\u001b[39;00m \u001b[39mNone\u001b[39;00m:\n\u001b[0;32m    871\u001b[0m   \u001b[39m# Release the lock early so that multiple threads can perform the call\u001b[39;00m\n\u001b[0;32m    872\u001b[0m   \u001b[39m# in parallel.\u001b[39;00m\n\u001b[0;32m    873\u001b[0m   \u001b[39mself\u001b[39m\u001b[39m.\u001b[39m_lock\u001b[39m.\u001b[39mrelease()\n",
      "File \u001b[1;32mc:\\Users\\jack\\AppData\\Local\\Programs\\Python\\Python310\\lib\\site-packages\\tensorflow\\python\\eager\\polymorphic_function\\tracing_compilation.py:139\u001b[0m, in \u001b[0;36mcall_function\u001b[1;34m(args, kwargs, tracing_options)\u001b[0m\n\u001b[0;32m    137\u001b[0m bound_args \u001b[39m=\u001b[39m function\u001b[39m.\u001b[39mfunction_type\u001b[39m.\u001b[39mbind(\u001b[39m*\u001b[39margs, \u001b[39m*\u001b[39m\u001b[39m*\u001b[39mkwargs)\n\u001b[0;32m    138\u001b[0m flat_inputs \u001b[39m=\u001b[39m function\u001b[39m.\u001b[39mfunction_type\u001b[39m.\u001b[39munpack_inputs(bound_args)\n\u001b[1;32m--> 139\u001b[0m \u001b[39mreturn\u001b[39;00m function\u001b[39m.\u001b[39;49m_call_flat(  \u001b[39m# pylint: disable=protected-access\u001b[39;49;00m\n\u001b[0;32m    140\u001b[0m     flat_inputs, captured_inputs\u001b[39m=\u001b[39;49mfunction\u001b[39m.\u001b[39;49mcaptured_inputs\n\u001b[0;32m    141\u001b[0m )\n",
      "File \u001b[1;32mc:\\Users\\jack\\AppData\\Local\\Programs\\Python\\Python310\\lib\\site-packages\\tensorflow\\python\\eager\\polymorphic_function\\concrete_function.py:1264\u001b[0m, in \u001b[0;36mConcreteFunction._call_flat\u001b[1;34m(self, tensor_inputs, captured_inputs)\u001b[0m\n\u001b[0;32m   1260\u001b[0m possible_gradient_type \u001b[39m=\u001b[39m gradients_util\u001b[39m.\u001b[39mPossibleTapeGradientTypes(args)\n\u001b[0;32m   1261\u001b[0m \u001b[39mif\u001b[39;00m (possible_gradient_type \u001b[39m==\u001b[39m gradients_util\u001b[39m.\u001b[39mPOSSIBLE_GRADIENT_TYPES_NONE\n\u001b[0;32m   1262\u001b[0m     \u001b[39mand\u001b[39;00m executing_eagerly):\n\u001b[0;32m   1263\u001b[0m   \u001b[39m# No tape is watching; skip to running the function.\u001b[39;00m\n\u001b[1;32m-> 1264\u001b[0m   \u001b[39mreturn\u001b[39;00m \u001b[39mself\u001b[39;49m\u001b[39m.\u001b[39;49m_inference_function\u001b[39m.\u001b[39;49mflat_call(args)\n\u001b[0;32m   1265\u001b[0m forward_backward \u001b[39m=\u001b[39m \u001b[39mself\u001b[39m\u001b[39m.\u001b[39m_select_forward_and_backward_functions(\n\u001b[0;32m   1266\u001b[0m     args,\n\u001b[0;32m   1267\u001b[0m     possible_gradient_type,\n\u001b[0;32m   1268\u001b[0m     executing_eagerly)\n\u001b[0;32m   1269\u001b[0m forward_function, args_with_tangents \u001b[39m=\u001b[39m forward_backward\u001b[39m.\u001b[39mforward()\n",
      "File \u001b[1;32mc:\\Users\\jack\\AppData\\Local\\Programs\\Python\\Python310\\lib\\site-packages\\tensorflow\\python\\eager\\polymorphic_function\\atomic_function.py:217\u001b[0m, in \u001b[0;36mAtomicFunction.flat_call\u001b[1;34m(self, args)\u001b[0m\n\u001b[0;32m    215\u001b[0m \u001b[39mdef\u001b[39;00m \u001b[39mflat_call\u001b[39m(\u001b[39mself\u001b[39m, args: Sequence[core\u001b[39m.\u001b[39mTensor]) \u001b[39m-\u001b[39m\u001b[39m>\u001b[39m Any:\n\u001b[0;32m    216\u001b[0m \u001b[39m  \u001b[39m\u001b[39m\"\"\"Calls with tensor inputs and returns the structured output.\"\"\"\u001b[39;00m\n\u001b[1;32m--> 217\u001b[0m   flat_outputs \u001b[39m=\u001b[39m \u001b[39mself\u001b[39;49m(\u001b[39m*\u001b[39;49margs)\n\u001b[0;32m    218\u001b[0m   \u001b[39mreturn\u001b[39;00m \u001b[39mself\u001b[39m\u001b[39m.\u001b[39mfunction_type\u001b[39m.\u001b[39mpack_output(flat_outputs)\n",
      "File \u001b[1;32mc:\\Users\\jack\\AppData\\Local\\Programs\\Python\\Python310\\lib\\site-packages\\tensorflow\\python\\eager\\polymorphic_function\\atomic_function.py:252\u001b[0m, in \u001b[0;36mAtomicFunction.__call__\u001b[1;34m(self, *args)\u001b[0m\n\u001b[0;32m    250\u001b[0m \u001b[39mwith\u001b[39;00m record\u001b[39m.\u001b[39mstop_recording():\n\u001b[0;32m    251\u001b[0m   \u001b[39mif\u001b[39;00m \u001b[39mself\u001b[39m\u001b[39m.\u001b[39m_bound_context\u001b[39m.\u001b[39mexecuting_eagerly():\n\u001b[1;32m--> 252\u001b[0m     outputs \u001b[39m=\u001b[39m \u001b[39mself\u001b[39;49m\u001b[39m.\u001b[39;49m_bound_context\u001b[39m.\u001b[39;49mcall_function(\n\u001b[0;32m    253\u001b[0m         \u001b[39mself\u001b[39;49m\u001b[39m.\u001b[39;49mname,\n\u001b[0;32m    254\u001b[0m         \u001b[39mlist\u001b[39;49m(args),\n\u001b[0;32m    255\u001b[0m         \u001b[39mlen\u001b[39;49m(\u001b[39mself\u001b[39;49m\u001b[39m.\u001b[39;49mfunction_type\u001b[39m.\u001b[39;49mflat_outputs),\n\u001b[0;32m    256\u001b[0m     )\n\u001b[0;32m    257\u001b[0m   \u001b[39melse\u001b[39;00m:\n\u001b[0;32m    258\u001b[0m     outputs \u001b[39m=\u001b[39m make_call_op_in_graph(\n\u001b[0;32m    259\u001b[0m         \u001b[39mself\u001b[39m,\n\u001b[0;32m    260\u001b[0m         \u001b[39mlist\u001b[39m(args),\n\u001b[0;32m    261\u001b[0m         \u001b[39mself\u001b[39m\u001b[39m.\u001b[39m_bound_context\u001b[39m.\u001b[39mfunction_call_options\u001b[39m.\u001b[39mas_attrs(),\n\u001b[0;32m    262\u001b[0m     )\n",
      "File \u001b[1;32mc:\\Users\\jack\\AppData\\Local\\Programs\\Python\\Python310\\lib\\site-packages\\tensorflow\\python\\eager\\context.py:1479\u001b[0m, in \u001b[0;36mContext.call_function\u001b[1;34m(self, name, tensor_inputs, num_outputs)\u001b[0m\n\u001b[0;32m   1477\u001b[0m cancellation_context \u001b[39m=\u001b[39m cancellation\u001b[39m.\u001b[39mcontext()\n\u001b[0;32m   1478\u001b[0m \u001b[39mif\u001b[39;00m cancellation_context \u001b[39mis\u001b[39;00m \u001b[39mNone\u001b[39;00m:\n\u001b[1;32m-> 1479\u001b[0m   outputs \u001b[39m=\u001b[39m execute\u001b[39m.\u001b[39;49mexecute(\n\u001b[0;32m   1480\u001b[0m       name\u001b[39m.\u001b[39;49mdecode(\u001b[39m\"\u001b[39;49m\u001b[39mutf-8\u001b[39;49m\u001b[39m\"\u001b[39;49m),\n\u001b[0;32m   1481\u001b[0m       num_outputs\u001b[39m=\u001b[39;49mnum_outputs,\n\u001b[0;32m   1482\u001b[0m       inputs\u001b[39m=\u001b[39;49mtensor_inputs,\n\u001b[0;32m   1483\u001b[0m       attrs\u001b[39m=\u001b[39;49mattrs,\n\u001b[0;32m   1484\u001b[0m       ctx\u001b[39m=\u001b[39;49m\u001b[39mself\u001b[39;49m,\n\u001b[0;32m   1485\u001b[0m   )\n\u001b[0;32m   1486\u001b[0m \u001b[39melse\u001b[39;00m:\n\u001b[0;32m   1487\u001b[0m   outputs \u001b[39m=\u001b[39m execute\u001b[39m.\u001b[39mexecute_with_cancellation(\n\u001b[0;32m   1488\u001b[0m       name\u001b[39m.\u001b[39mdecode(\u001b[39m\"\u001b[39m\u001b[39mutf-8\u001b[39m\u001b[39m\"\u001b[39m),\n\u001b[0;32m   1489\u001b[0m       num_outputs\u001b[39m=\u001b[39mnum_outputs,\n\u001b[1;32m   (...)\u001b[0m\n\u001b[0;32m   1493\u001b[0m       cancellation_manager\u001b[39m=\u001b[39mcancellation_context,\n\u001b[0;32m   1494\u001b[0m   )\n",
      "File \u001b[1;32mc:\\Users\\jack\\AppData\\Local\\Programs\\Python\\Python310\\lib\\site-packages\\tensorflow\\python\\eager\\execute.py:60\u001b[0m, in \u001b[0;36mquick_execute\u001b[1;34m(op_name, num_outputs, inputs, attrs, ctx, name)\u001b[0m\n\u001b[0;32m     53\u001b[0m   \u001b[39m# Convert any objects of type core_types.Tensor to Tensor.\u001b[39;00m\n\u001b[0;32m     54\u001b[0m   inputs \u001b[39m=\u001b[39m [\n\u001b[0;32m     55\u001b[0m       tensor_conversion_registry\u001b[39m.\u001b[39mconvert(t)\n\u001b[0;32m     56\u001b[0m       \u001b[39mif\u001b[39;00m \u001b[39misinstance\u001b[39m(t, core_types\u001b[39m.\u001b[39mTensor)\n\u001b[0;32m     57\u001b[0m       \u001b[39melse\u001b[39;00m t\n\u001b[0;32m     58\u001b[0m       \u001b[39mfor\u001b[39;00m t \u001b[39min\u001b[39;00m inputs\n\u001b[0;32m     59\u001b[0m   ]\n\u001b[1;32m---> 60\u001b[0m   tensors \u001b[39m=\u001b[39m pywrap_tfe\u001b[39m.\u001b[39;49mTFE_Py_Execute(ctx\u001b[39m.\u001b[39;49m_handle, device_name, op_name,\n\u001b[0;32m     61\u001b[0m                                       inputs, attrs, num_outputs)\n\u001b[0;32m     62\u001b[0m \u001b[39mexcept\u001b[39;00m core\u001b[39m.\u001b[39m_NotOkStatusException \u001b[39mas\u001b[39;00m e:\n\u001b[0;32m     63\u001b[0m   \u001b[39mif\u001b[39;00m name \u001b[39mis\u001b[39;00m \u001b[39mnot\u001b[39;00m \u001b[39mNone\u001b[39;00m:\n",
      "\u001b[1;31mKeyboardInterrupt\u001b[0m: "
     ]
    }
   ],
   "source": [
    "epochs = 200\n",
    "history = model.fit(\n",
    "  train_ds,\n",
    "  validation_data=test_ds,\n",
    "  epochs=epochs,\n",
    "  callbacks=[model_checkpoint_callback]\n",
    ")"
   ]
  },
  {
   "cell_type": "markdown",
   "metadata": {
    "id": "2UUx1dYHEx7Q"
   },
   "source": [
    "## Save Model"
   ]
  },
  {
   "cell_type": "code",
   "execution_count": null,
   "metadata": {
    "executionInfo": {
     "elapsed": 437,
     "status": "ok",
     "timestamp": 1698093117757,
     "user": {
      "displayName": "Jack Pay",
      "userId": "06088299984570525080"
     },
     "user_tz": -60
    },
    "id": "U1suKBuMEx7Q"
   },
   "outputs": [],
   "source": [
    "# model.save(os.path.join(proj_model_dir, \"newest_model.keras\"))\n",
    "\n",
    "# model.save_weights(os.path.join(proj_model_dir, \"newest_model.hdf5\"))\n",
    "model_architecture = model.to_json()\n",
    "with open(os.path.join(proj_model_dir, \"best_run.json\"), \"w\") as f:\n",
    "  f.write(json.dumps(model_architecture, indent=4))"
   ]
  },
  {
   "cell_type": "markdown",
   "metadata": {
    "id": "faQaJMqIEx7Q"
   },
   "source": [
    "# Metrics"
   ]
  },
  {
   "cell_type": "markdown",
   "metadata": {
    "id": "gfgSbcNMEx7T"
   },
   "source": [
    "## Display Metrics"
   ]
  },
  {
   "cell_type": "code",
   "execution_count": null,
   "metadata": {
    "colab": {
     "base_uri": "https://localhost:8080/",
     "height": 872
    },
    "executionInfo": {
     "elapsed": 1223,
     "status": "ok",
     "timestamp": 1698093151500,
     "user": {
      "displayName": "Jack Pay",
      "userId": "06088299984570525080"
     },
     "user_tz": -60
    },
    "id": "bLLR1ETiEx7T",
    "outputId": "598a1649-7c2b-4e7c-984e-f5bddc6fa974"
   },
   "outputs": [
    {
     "data": {
      "image/png": "[encoded data removed]",
      "text/plain": [
       "<Figure size 2000x1000 with 2 Axes>"
      ]
     },
     "metadata": {},
     "output_type": "display_data"
    }
   ],
   "source": [
    "acc = history.history['accuracy']\n",
    "val_acc = history.history['val_accuracy']\n",
    "\n",
    "loss = history.history['loss']\n",
    "val_loss = history.history['val_loss']\n",
    "\n",
    "epochs_range = range(epochs)\n",
    "\n",
    "plt.figure(figsize=(20, 10))\n",
    "plt.subplot(1, 2, 1)\n",
    "plt.plot(epochs_range, acc, label='Training Accuracy')\n",
    "plt.plot(epochs_range, val_acc, label='Test Accuracy')\n",
    "plt.legend(loc='lower right')\n",
    "plt.title('Training and Test Accuracy')\n",
    "plt.xlabel(\"Epoch Number\")\n",
    "plt.ylabel(\"Accuracy\")\n",
    "\n",
    "plt.subplot(1, 2, 2)\n",
    "plt.plot(epochs_range, loss, label='Training Loss')\n",
    "plt.plot(epochs_range, val_loss, label='Test Loss')\n",
    "plt.legend(loc='upper right')\n",
    "plt.title('Training and Test Loss')\n",
    "plt.xlabel(\"Epoch Number\")\n",
    "plt.ylabel(\"Loss\")\n",
    "\n",
    "plt.savefig(os.path.join(proj_model_dir, \"newest_model_metrics.pdf\"))\n",
    "\n",
    "plt.show()"
   ]
  },
  {
   "cell_type": "code",
   "execution_count": null,
   "metadata": {},
   "outputs": [],
   "source": [
    "# best_model = keras.models.model_from_json(model_architecture)\n",
    "# best_model.load_weights(os.path.join(proj_model_dir, \"best_run.hdf5\"))\n",
    "# best_model.compile(optimizer='adam', loss='categorical_crossentropy', metrics=['accuracy'])"
   ]
  },
  {
   "cell_type": "code",
   "execution_count": null,
   "metadata": {},
   "outputs": [
    {
     "name": "stdout",
     "output_type": "stream",
     "text": [
      "28/28 [==============================] - 4s 36ms/step - loss: 0.4289 - accuracy: 0.8693\n",
      "Validation Loss: 0.42891430854797363\n",
      "Validation Accuracy: 0.8693181872367859\n"
     ]
    }
   ],
   "source": [
    "# val_result = best_model.evaluate(val_ds)\n",
    "\n",
    "# loss = val_result[0]\n",
    "# accuracy = val_result[1]\n",
    "# print(\"Validation Loss:\", loss)\n",
    "# print(\"Validation Accuracy:\", accuracy)"
   ]
  },
  {
   "cell_type": "code",
   "execution_count": null,
   "metadata": {},
   "outputs": [
    {
     "name": "stdout",
     "output_type": "stream",
     "text": [
      "1/1 [==============================] - 3s 3s/step\n",
      "              precision    recall  f1-score   support\n",
      "\n",
      "           0       0.72      0.79      0.75       222\n",
      "           1       0.84      0.74      0.79       246\n",
      "           2       0.90      0.93      0.92       264\n",
      "           3       0.89      0.89      0.89       258\n",
      "\n",
      "    accuracy                           0.84       990\n",
      "   macro avg       0.84      0.84      0.84       990\n",
      "weighted avg       0.84      0.84      0.84       990\n",
      "\n"
     ]
    }
   ],
   "source": [
    "# y_pred = best_model.predict(np.array(val_X),batch_size=len(val_X))\n",
    "# y_pred_labels = np.argmax(y_pred, axis=1)\n",
    "# y_true_labels = np.argmax(val_Y, axis=1)\n",
    "\n",
    "# class_report = classification_report(y_true_labels, y_pred_labels)\n",
    "# print(class_report)"
   ]
  }
 ],
 "metadata": {
  "accelerator": "GPU",
  "colab": {
   "gpuType": "A100",
   "machine_shape": "hm",
   "provenance": []
  },
  "kernelspec": {
   "display_name": "Python 3",
   "name": "python3"
  },
  "language_info": {
   "codemirror_mode": {
    "name": "ipython",
    "version": 3
   },
   "file_extension": ".py",
   "mimetype": "text/x-python",
   "name": "python",
   "nbconvert_exporter": "python",
   "pygments_lexer": "ipython3",
   "version": "3.10.11"
  }
 },
 "nbformat": 4,
 "nbformat_minor": 0
}
